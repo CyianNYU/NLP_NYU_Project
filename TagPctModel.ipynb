{
 "cells": [
  {
   "cell_type": "code",
   "execution_count": 8,
   "metadata": {},
   "outputs": [],
   "source": [
    "from itertools import cycle\n",
    "\n",
    "import numpy as np\n",
    "import pandas as pd\n",
    "from scipy import interp\n",
    "\n",
    "from sklearn.model_selection import train_test_split, GridSearchCV\n",
    "from sklearn.preprocessing import LabelEncoder, LabelBinarizer\n",
    "from sklearn.feature_extraction.text import CountVectorizer, TfidfVectorizer\n",
    "from sklearn.multiclass import OneVsRestClassifier\n",
    "from sklearn.pipeline import Pipeline\n",
    "from sklearn.naive_bayes import BernoulliNB, GaussianNB, MultinomialNB\n",
    "from sklearn.decomposition import NMF\n",
    "from sklearn.ensemble import RandomForestClassifier, GradientBoostingClassifier, RandomForestRegressor, GradientBoostingRegressor\n",
    "from sklearn.linear_model import LinearRegression, Ridge, BayesianRidge\n",
    "from sklearn.metrics import roc_auc_score, roc_curve, auc, make_scorer, accuracy_score, mean_squared_error\n",
    "\n",
    "import matplotlib.pyplot as plt\n",
    "plt.style.use('dark_background')\n",
    "\n",
    "%matplotlib inline"
   ]
  },
  {
   "cell_type": "code",
   "execution_count": 3,
   "metadata": {},
   "outputs": [],
   "source": [
    "data = pd.read_csv('data/qaData.csv', parse_dates=['Date'])\n",
    "data['EarningTag2'] = data['EarningTag2'].str.strip()\n",
    "\n",
    "#Add Lagged Column\n",
    "data['Lag1'] = data.groupby([\"Company\", \"Participants\", \"Date\", \"EventName\", \"EventType\"])['EarningTag2'].shift(1)\n",
    "\n",
    "#Add Year and Month from Data\n",
    "data['Year'] = data['Date'].dt.year\n",
    "data['Month'] = data['Date'].dt.month\n",
    "\n",
    "#Drop non-earning calls\n",
    "nn_data = data.loc[data['EventType']==\"Earnings call\", ['Company', 'Participants', 'Month', 'Year', 'AnalystName',\t'AnalystCompany', 'EventName', 'Lag1', 'EarningTag2']].copy()\n",
    "#Add quarter\n",
    "nn_data['Quarter'] = nn_data['EventName'].str.split(\"Q\").str[0]\n",
    "#Drop bad features\n",
    "nn_data = nn_data[['Company', \"Participants\", \"AnalystName\", \"AnalystCompany\", \"Month\", \"Year\", \"Quarter\", \"Lag1\", \"EarningTag2\"]].copy()\n",
    "\n",
    "nn_data['NewIndex'] = nn_data['Company'].str.replace(\" \", \"\") +  \"_Y\" + nn_data['Year'].astype(str) + \"_M\" + nn_data['Month'].astype(str) + \"_Q\" + nn_data['Quarter'].astype(str)\n",
    "pct_data = (nn_data.groupby(['NewIndex', \"EarningTag2\"]).size().reset_index()).pivot(index='NewIndex', columns='EarningTag2', values=0).fillna(0)\n",
    "\n",
    "#pct_div_data = pct_data.div(pct_data.sum(axis=1), axis=0)\n",
    "pct_div_data = pct_data\n",
    "pct_div_data = pd.concat([pct_div_data.reset_index(drop=True), pct_div_data.reset_index()['NewIndex'].str.split(\"_\", expand=True)[[0, 1, 2, 3]]], axis=1, ignore_index=True)\n",
    "pct_div_data.columns = pct_data.columns.tolist() + ['Company', 'Year', 'Month', 'Quarter']\n",
    "pct_div_data = pct_div_data[['Company', 'Year', 'Month', 'Quarter'] + pct_data.columns.tolist()]\n",
    "\n",
    "pct_melt_data = pd.melt(pct_div_data, id_vars=['Company', 'Year', 'Month', 'Quarter'], var_name='Tag', value_name='NumQ')\n",
    "pct_melt_data = pd.concat([pct_melt_data, \n",
    "                             pd.get_dummies(pct_melt_data['Company'], prefix='C', prefix_sep=\"\"),\n",
    "                             pd.get_dummies(pct_melt_data['Month']),\n",
    "                             pd.get_dummies(pct_melt_data['Quarter']),\n",
    "                             pd.get_dummies(pct_melt_data['Year']),\n",
    "                             pd.get_dummies(pct_melt_data['Tag'], prefix='T', prefix_sep=\"\")], axis=1)\n",
    "pct_melt_data = pct_melt_data.drop(['Company', 'Year', 'Month', 'Quarter', 'Tag'], axis=1)\n",
    "pct_melt_data = pct_melt_data.reset_index(drop=True)\n",
    "\n",
    "train, test = pct_melt_data.loc[pct_melt_data['Y2018']!=1].copy().reset_index(drop=True), \\\n",
    "                pct_melt_data.loc[pct_melt_data['Y2018']==1].copy().reset_index(drop=True)\n",
    "\n",
    "X_train, y_train = train.drop(['NumQ'], axis=1), train['NumQ'].values\n",
    "X_test, y_test = test.drop(['NumQ'], axis=1), test['NumQ'].values"
   ]
  },
  {
   "cell_type": "code",
   "execution_count": 49,
   "metadata": {},
   "outputs": [],
   "source": [
    "scores_gbc = np.zeros(50)\n",
    "scores_rf = np.zeros(50)\n",
    "\n",
    "for comp in range(1, 50):\n",
    "    model = NMF(n_components=comp)\n",
    "    X_train_W = model.fit_transform(X_train)\n",
    "    X_test_W = model.transform(X_test)\n",
    "    \n",
    "    estimator_gbc = GradientBoostingRegressor(warm_start=True).fit(X_train_W, y_train)\n",
    "    scores_gbc[comp] = mean_squared_error(y_test, estimator_gbc.predict(X_test_W).round())\n",
    "    \n",
    "    estimator_rf = RandomForestRegressor(warm_start=True).fit(X_train_W, y_train)\n",
    "    scores_rf[comp] = mean_squared_error(y_test, estimator_rf.predict(X_test_W).round())\n"
   ]
  },
  {
   "cell_type": "code",
   "execution_count": 50,
   "metadata": {},
   "outputs": [
    {
     "name": "stdout",
     "output_type": "stream",
     "text": [
      "3.7\n",
      "3.8685714285714288\n"
     ]
    }
   ],
   "source": [
    "print(scores_gbc[1:].min())\n",
    "print(scores_rf[1:].min())"
   ]
  },
  {
   "cell_type": "code",
   "execution_count": 52,
   "metadata": {},
   "outputs": [
    {
     "data": {
      "text/plain": [
       "30"
      ]
     },
     "execution_count": 52,
     "metadata": {},
     "output_type": "execute_result"
    }
   ],
   "source": [
    "scores_gbc[1:].argmin()"
   ]
  },
  {
   "cell_type": "code",
   "execution_count": 77,
   "metadata": {},
   "outputs": [
    {
     "data": {
      "text/plain": [
       "GridSearchCV(cv=5, error_score='raise',\n",
       "       estimator=GradientBoostingRegressor(alpha=0.9, criterion='friedman_mse', init=None,\n",
       "             learning_rate=0.1, loss='ls', max_depth=3, max_features=None,\n",
       "             max_leaf_nodes=None, min_impurity_decrease=0.0,\n",
       "             min_impurity_split=None, min_samples_leaf=1,\n",
       "             min_samples_split=2, min_weight_fraction_leaf=0.0,\n",
       "             n_estimators=100, presort='auto', random_state=None,\n",
       "             subsample=1.0, verbose=0, warm_start=False),\n",
       "       fit_params=None, iid=True, n_jobs=1,\n",
       "       param_grid={'loss': ['ls', 'huber'], 'learning_rate': array([1.e-05, 1.e-04, 1.e-03, 1.e-02, 1.e-01, 1.e+00]), 'min_samples_split': array([2, 4, 6, 8])},\n",
       "       pre_dispatch='2*n_jobs', refit=True, return_train_score=False,\n",
       "       scoring=make_scorer(mean_squared_error, greater_is_better=False),\n",
       "       verbose=0)"
      ]
     },
     "execution_count": 77,
     "metadata": {},
     "output_type": "execute_result"
    }
   ],
   "source": [
    "model = NMF(n_components=31).fit(X_train)\n",
    "X_train_W = model.transform(X_train)\n",
    "\n",
    "param_grid = {'loss':['ls', 'huber'],\n",
    "              'learning_rate':10.0**np.arange(-5,1,1),\n",
    "              'min_samples_split':np.arange(2,10,2)}\n",
    "\n",
    "grid = GridSearchCV(GradientBoostingRegressor(), cv=5, param_grid=param_grid, return_train_score=False, scoring= make_scorer(mean_squared_error, greater_is_better=False))\n",
    "grid.fit(X_train_W, y_train)"
   ]
  },
  {
   "cell_type": "code",
   "execution_count": 78,
   "metadata": {},
   "outputs": [
    {
     "data": {
      "text/plain": [
       "-8.118898481023532"
      ]
     },
     "execution_count": 78,
     "metadata": {},
     "output_type": "execute_result"
    }
   ],
   "source": [
    "grid.best_score_"
   ]
  },
  {
   "cell_type": "code",
   "execution_count": 83,
   "metadata": {},
   "outputs": [
    {
     "data": {
      "text/plain": [
       "{'mean_fit_time': array([0.06854925, 0.06635704, 0.06742826, 0.06312447, 0.15935092,\n",
       "        0.15809288, 0.16487207, 0.16290479, 0.06814685, 0.06504178,\n",
       "        0.07482562, 0.07388802, 0.15933461, 0.16892729, 0.1587574 ,\n",
       "        0.19888043, 0.0667943 , 0.07079711, 0.06817837, 0.07440066,\n",
       "        0.17502322, 0.17844605, 0.1756484 , 0.16384964, 0.06877875,\n",
       "        0.06798625, 0.06516013, 0.07165804, 0.18323846, 0.18040566,\n",
       "        0.18172388, 0.17720847, 0.07401361, 0.06580906, 0.07055964,\n",
       "        0.06518369, 0.16257505, 0.16556177, 0.16731377, 0.17478604,\n",
       "        0.07654963, 0.07580476, 0.07309804, 0.07903833, 0.19459691,\n",
       "        0.17522388, 0.15677433, 0.15924549]),\n",
       " 'std_fit_time': array([0.0056204 , 0.00495804, 0.00613989, 0.00328961, 0.01049357,\n",
       "        0.01356116, 0.00883399, 0.00737444, 0.00234341, 0.00166524,\n",
       "        0.01239389, 0.01014548, 0.01144181, 0.01003218, 0.00664474,\n",
       "        0.01509385, 0.00653781, 0.00479117, 0.0046758 , 0.01029326,\n",
       "        0.00923011, 0.01047624, 0.01779157, 0.00541856, 0.00620148,\n",
       "        0.00660349, 0.00491776, 0.00827522, 0.0086784 , 0.01886986,\n",
       "        0.01873942, 0.01100929, 0.01361423, 0.00218482, 0.00408746,\n",
       "        0.00241091, 0.01131127, 0.01084757, 0.00921987, 0.00901965,\n",
       "        0.00560286, 0.00319373, 0.00268949, 0.00438176, 0.01371323,\n",
       "        0.00635385, 0.0047004 , 0.01130374]),\n",
       " 'mean_score_time': array([0.00038919, 0.00046926, 0.00038671, 0.00037675, 0.00040903,\n",
       "        0.00041046, 0.00044169, 0.00036707, 0.00037298, 0.00042963,\n",
       "        0.00047469, 0.00040622, 0.00044765, 0.00042276, 0.00038347,\n",
       "        0.00038552, 0.00043974, 0.00040498, 0.00038991, 0.00044103,\n",
       "        0.00040655, 0.00042014, 0.00041642, 0.0004137 , 0.00042286,\n",
       "        0.0004065 , 0.00032926, 0.0004571 , 0.00052395, 0.0004694 ,\n",
       "        0.00050392, 0.00039482, 0.0003994 , 0.00040812, 0.00045848,\n",
       "        0.00045085, 0.00038719, 0.0004005 , 0.0004714 , 0.00049195,\n",
       "        0.00049715, 0.00049157, 0.00048013, 0.00051808, 0.00051932,\n",
       "        0.00041146, 0.00042796, 0.00044346]),\n",
       " 'std_score_time': array([7.17446786e-05, 8.45403370e-05, 4.28488004e-05, 5.07107743e-05,\n",
       "        7.51005052e-05, 7.93918260e-05, 2.92517736e-05, 7.98579961e-05,\n",
       "        3.46718656e-05, 3.23473479e-05, 1.14089605e-04, 5.16177931e-05,\n",
       "        6.27461535e-05, 6.83087162e-05, 8.96113412e-05, 1.11669928e-04,\n",
       "        8.74143570e-05, 3.13128473e-05, 4.62140084e-05, 5.15223377e-05,\n",
       "        4.42820777e-05, 4.44558021e-05, 9.78898722e-05, 2.54469367e-05,\n",
       "        8.10706751e-05, 3.24221217e-05, 3.51516643e-05, 1.11228275e-04,\n",
       "        9.45430650e-05, 5.03207588e-05, 1.81772276e-04, 5.48704704e-05,\n",
       "        3.89095615e-05, 5.35644150e-05, 9.32994991e-05, 1.59157429e-04,\n",
       "        7.96457952e-05, 3.40160402e-05, 6.44371631e-05, 9.90108010e-05,\n",
       "        3.14529684e-05, 1.09663880e-04, 5.39828103e-05, 7.31381781e-05,\n",
       "        2.81880543e-05, 3.57969121e-05, 7.84338424e-05, 5.54592570e-05]),\n",
       " 'param_learning_rate': masked_array(data=[1e-05, 1e-05, 1e-05, 1e-05, 1e-05, 1e-05, 1e-05, 1e-05,\n",
       "                    0.0001, 0.0001, 0.0001, 0.0001, 0.0001, 0.0001, 0.0001,\n",
       "                    0.0001, 0.001, 0.001, 0.001, 0.001, 0.001, 0.001,\n",
       "                    0.001, 0.001, 0.01, 0.01, 0.01, 0.01, 0.01, 0.01, 0.01,\n",
       "                    0.01, 0.1, 0.1, 0.1, 0.1, 0.1, 0.1, 0.1, 0.1, 1.0, 1.0,\n",
       "                    1.0, 1.0, 1.0, 1.0, 1.0, 1.0],\n",
       "              mask=[False, False, False, False, False, False, False, False,\n",
       "                    False, False, False, False, False, False, False, False,\n",
       "                    False, False, False, False, False, False, False, False,\n",
       "                    False, False, False, False, False, False, False, False,\n",
       "                    False, False, False, False, False, False, False, False,\n",
       "                    False, False, False, False, False, False, False, False],\n",
       "        fill_value='?',\n",
       "             dtype=object),\n",
       " 'param_loss': masked_array(data=['ls', 'ls', 'ls', 'ls', 'huber', 'huber', 'huber',\n",
       "                    'huber', 'ls', 'ls', 'ls', 'ls', 'huber', 'huber',\n",
       "                    'huber', 'huber', 'ls', 'ls', 'ls', 'ls', 'huber',\n",
       "                    'huber', 'huber', 'huber', 'ls', 'ls', 'ls', 'ls',\n",
       "                    'huber', 'huber', 'huber', 'huber', 'ls', 'ls', 'ls',\n",
       "                    'ls', 'huber', 'huber', 'huber', 'huber', 'ls', 'ls',\n",
       "                    'ls', 'ls', 'huber', 'huber', 'huber', 'huber'],\n",
       "              mask=[False, False, False, False, False, False, False, False,\n",
       "                    False, False, False, False, False, False, False, False,\n",
       "                    False, False, False, False, False, False, False, False,\n",
       "                    False, False, False, False, False, False, False, False,\n",
       "                    False, False, False, False, False, False, False, False,\n",
       "                    False, False, False, False, False, False, False, False],\n",
       "        fill_value='?',\n",
       "             dtype=object),\n",
       " 'param_min_samples_split': masked_array(data=[2, 4, 6, 8, 2, 4, 6, 8, 2, 4, 6, 8, 2, 4, 6, 8, 2, 4,\n",
       "                    6, 8, 2, 4, 6, 8, 2, 4, 6, 8, 2, 4, 6, 8, 2, 4, 6, 8,\n",
       "                    2, 4, 6, 8, 2, 4, 6, 8, 2, 4, 6, 8],\n",
       "              mask=[False, False, False, False, False, False, False, False,\n",
       "                    False, False, False, False, False, False, False, False,\n",
       "                    False, False, False, False, False, False, False, False,\n",
       "                    False, False, False, False, False, False, False, False,\n",
       "                    False, False, False, False, False, False, False, False,\n",
       "                    False, False, False, False, False, False, False, False],\n",
       "        fill_value='?',\n",
       "             dtype=object),\n",
       " 'params': [{'learning_rate': 1e-05, 'loss': 'ls', 'min_samples_split': 2},\n",
       "  {'learning_rate': 1e-05, 'loss': 'ls', 'min_samples_split': 4},\n",
       "  {'learning_rate': 1e-05, 'loss': 'ls', 'min_samples_split': 6},\n",
       "  {'learning_rate': 1e-05, 'loss': 'ls', 'min_samples_split': 8},\n",
       "  {'learning_rate': 1e-05, 'loss': 'huber', 'min_samples_split': 2},\n",
       "  {'learning_rate': 1e-05, 'loss': 'huber', 'min_samples_split': 4},\n",
       "  {'learning_rate': 1e-05, 'loss': 'huber', 'min_samples_split': 6},\n",
       "  {'learning_rate': 1e-05, 'loss': 'huber', 'min_samples_split': 8},\n",
       "  {'learning_rate': 0.0001, 'loss': 'ls', 'min_samples_split': 2},\n",
       "  {'learning_rate': 0.0001, 'loss': 'ls', 'min_samples_split': 4},\n",
       "  {'learning_rate': 0.0001, 'loss': 'ls', 'min_samples_split': 6},\n",
       "  {'learning_rate': 0.0001, 'loss': 'ls', 'min_samples_split': 8},\n",
       "  {'learning_rate': 0.0001, 'loss': 'huber', 'min_samples_split': 2},\n",
       "  {'learning_rate': 0.0001, 'loss': 'huber', 'min_samples_split': 4},\n",
       "  {'learning_rate': 0.0001, 'loss': 'huber', 'min_samples_split': 6},\n",
       "  {'learning_rate': 0.0001, 'loss': 'huber', 'min_samples_split': 8},\n",
       "  {'learning_rate': 0.001, 'loss': 'ls', 'min_samples_split': 2},\n",
       "  {'learning_rate': 0.001, 'loss': 'ls', 'min_samples_split': 4},\n",
       "  {'learning_rate': 0.001, 'loss': 'ls', 'min_samples_split': 6},\n",
       "  {'learning_rate': 0.001, 'loss': 'ls', 'min_samples_split': 8},\n",
       "  {'learning_rate': 0.001, 'loss': 'huber', 'min_samples_split': 2},\n",
       "  {'learning_rate': 0.001, 'loss': 'huber', 'min_samples_split': 4},\n",
       "  {'learning_rate': 0.001, 'loss': 'huber', 'min_samples_split': 6},\n",
       "  {'learning_rate': 0.001, 'loss': 'huber', 'min_samples_split': 8},\n",
       "  {'learning_rate': 0.01, 'loss': 'ls', 'min_samples_split': 2},\n",
       "  {'learning_rate': 0.01, 'loss': 'ls', 'min_samples_split': 4},\n",
       "  {'learning_rate': 0.01, 'loss': 'ls', 'min_samples_split': 6},\n",
       "  {'learning_rate': 0.01, 'loss': 'ls', 'min_samples_split': 8},\n",
       "  {'learning_rate': 0.01, 'loss': 'huber', 'min_samples_split': 2},\n",
       "  {'learning_rate': 0.01, 'loss': 'huber', 'min_samples_split': 4},\n",
       "  {'learning_rate': 0.01, 'loss': 'huber', 'min_samples_split': 6},\n",
       "  {'learning_rate': 0.01, 'loss': 'huber', 'min_samples_split': 8},\n",
       "  {'learning_rate': 0.1, 'loss': 'ls', 'min_samples_split': 2},\n",
       "  {'learning_rate': 0.1, 'loss': 'ls', 'min_samples_split': 4},\n",
       "  {'learning_rate': 0.1, 'loss': 'ls', 'min_samples_split': 6},\n",
       "  {'learning_rate': 0.1, 'loss': 'ls', 'min_samples_split': 8},\n",
       "  {'learning_rate': 0.1, 'loss': 'huber', 'min_samples_split': 2},\n",
       "  {'learning_rate': 0.1, 'loss': 'huber', 'min_samples_split': 4},\n",
       "  {'learning_rate': 0.1, 'loss': 'huber', 'min_samples_split': 6},\n",
       "  {'learning_rate': 0.1, 'loss': 'huber', 'min_samples_split': 8},\n",
       "  {'learning_rate': 1.0, 'loss': 'ls', 'min_samples_split': 2},\n",
       "  {'learning_rate': 1.0, 'loss': 'ls', 'min_samples_split': 4},\n",
       "  {'learning_rate': 1.0, 'loss': 'ls', 'min_samples_split': 6},\n",
       "  {'learning_rate': 1.0, 'loss': 'ls', 'min_samples_split': 8},\n",
       "  {'learning_rate': 1.0, 'loss': 'huber', 'min_samples_split': 2},\n",
       "  {'learning_rate': 1.0, 'loss': 'huber', 'min_samples_split': 4},\n",
       "  {'learning_rate': 1.0, 'loss': 'huber', 'min_samples_split': 6},\n",
       "  {'learning_rate': 1.0, 'loss': 'huber', 'min_samples_split': 8}],\n",
       " 'split0_test_score': array([ -8.46271499,  -8.46290846,  -8.46290837,  -8.46290819,\n",
       "         -9.61181239,  -9.6118119 ,  -9.61181239,  -9.6118119 ,\n",
       "         -8.33302108,  -8.33498007,  -8.33497301,  -8.33497562,\n",
       "         -9.45351344,  -9.45351827,  -9.45350862,  -9.45350378,\n",
       "         -7.25423818,  -7.27279873,  -7.27280582,  -7.27279802,\n",
       "         -8.09326241,  -8.09318388,  -8.09322269,  -8.09326323,\n",
       "         -6.74137395,  -6.7865986 ,  -6.7712974 ,  -6.7959101 ,\n",
       "         -5.82626203,  -5.8462402 ,  -5.88411421,  -5.88380376,\n",
       "        -10.23382405, -10.68752879, -10.49114775, -10.81984327,\n",
       "        -10.98574483, -10.93299245, -10.41633539, -10.65606942,\n",
       "        -14.82481429, -14.85969511, -14.44835505, -14.54351955,\n",
       "        -15.25371627, -19.11460473, -14.993252  , -10.76634266]),\n",
       " 'split1_test_score': array([-17.08652264, -17.08652264, -17.08652264, -17.08652264,\n",
       "        -19.78128745, -19.78128745, -19.78128745, -19.78128745,\n",
       "        -17.07332689, -17.07332689, -17.07332689, -17.07332689,\n",
       "        -19.72995353, -19.72995353, -19.72995353, -19.72995353,\n",
       "        -16.9556623 , -16.9556623 , -16.9556623 , -16.9556623 ,\n",
       "        -19.27845241, -19.27845241, -19.27845241, -19.27845241,\n",
       "        -16.01272111, -16.05142112, -16.0441811 , -16.12338372,\n",
       "        -17.05502152, -17.0547682 , -17.06301133, -17.11463206,\n",
       "        -15.15804302, -15.22610476, -15.25088125, -15.18711238,\n",
       "        -15.57384825, -15.93003427, -15.89353531, -15.86258352,\n",
       "        -15.1199899 , -17.3500161 , -16.67885818, -15.57714499,\n",
       "        -13.8527578 , -14.22342221, -15.2254654 , -14.76532803]),\n",
       " 'split2_test_score': array([ -8.99849453,  -8.99849453,  -8.99849453,  -8.99849453,\n",
       "        -11.74030011, -11.74030011, -11.74030011, -11.74030011,\n",
       "         -9.0155721 ,  -9.0155721 ,  -9.0155721 ,  -9.0155721 ,\n",
       "        -11.73651152, -11.73651152, -11.73651152, -11.73651152,\n",
       "         -9.18531127,  -9.18531127,  -9.18531127,  -9.18531127,\n",
       "        -11.71244818, -11.71244818, -11.71244818, -11.71244818,\n",
       "        -10.6246971 , -10.6246971 , -10.6246971 , -10.62474477,\n",
       "        -11.79608123, -11.79608123, -11.79608123, -11.79608123,\n",
       "        -11.32630917, -11.34481981, -11.41808262, -11.18834601,\n",
       "        -12.06650338, -11.93061576, -12.10473356, -11.99239796,\n",
       "        -12.51707531, -12.63786218, -13.07765995, -12.80851702,\n",
       "        -14.38452984, -14.65053538, -14.11205555, -14.80970584]),\n",
       " 'split3_test_score': array([-4.12055292, -4.12055292, -4.12055292, -4.12055292, -2.237074  ,\n",
       "        -2.237074  , -2.237074  , -2.237074  , -4.10232616, -4.10232616,\n",
       "        -4.10232616, -4.10232616, -2.23601369, -2.23601369, -2.23601369,\n",
       "        -2.23601369, -3.94908303, -3.94908303, -3.94908303, -3.94908303,\n",
       "        -2.23922402, -2.23922402, -2.23922402, -2.23922402, -3.4323312 ,\n",
       "        -3.4323312 , -3.4323312 , -3.43228627, -2.39201355, -2.39201373,\n",
       "        -2.39201355, -2.39201373, -3.08520434, -3.15234477, -3.15310228,\n",
       "        -3.23036348, -3.13089817, -3.01832694, -3.01610889, -3.04369027,\n",
       "        -3.13060885, -2.94177074, -3.30120035, -3.27644109, -4.51276224,\n",
       "        -5.62811469, -5.15554343, -5.27072179]),\n",
       " 'split4_test_score': array([-4.12179222, -4.12179222, -4.12179222, -4.12179222, -3.71525547,\n",
       "        -3.71525547, -3.71525547, -3.71525547, -4.11071332, -4.11071332,\n",
       "        -4.11071332, -4.11071332, -3.70619194, -3.70619194, -3.70619194,\n",
       "        -3.70619194, -4.0101463 , -4.0101463 , -4.0101463 , -4.0101463 ,\n",
       "        -3.62909748, -3.62909748, -3.62909748, -3.62909748, -3.75362513,\n",
       "        -3.75362513, -3.75362513, -3.7536113 , -3.47711095, -3.47711095,\n",
       "        -3.47711095, -3.47711095, -3.88087996, -3.80846896, -3.74571225,\n",
       "        -3.87833033, -3.53944095, -3.72659334, -3.61081534, -3.6769704 ,\n",
       "        -3.01228012, -3.4143756 , -3.3682529 , -3.31100121, -5.04449321,\n",
       "        -5.30564186, -4.2791263 , -4.82253271]),\n",
       " 'mean_test_score': array([ -8.56624708,  -8.56628585,  -8.56628583,  -8.56628579,\n",
       "         -9.42909576,  -9.42909566,  -9.42909576,  -9.42909566,\n",
       "         -8.53519316,  -8.53558568,  -8.53558427,  -8.53558479,\n",
       "         -9.38431314,  -9.38431411,  -9.38431217,  -9.38431121,\n",
       "         -8.27884977,  -8.28256876,  -8.28257018,  -8.28256862,\n",
       "         -9.00173315,  -9.00171741,  -9.00172519,  -9.00173331,\n",
       "         -8.12133554,  -8.13815162,  -8.13363501,  -8.15443443,\n",
       "         -8.11889848,  -8.1228508 ,  -8.13209131,  -8.14237244,\n",
       "         -8.74659944,  -8.85380416,  -8.82173398,  -8.87064409,\n",
       "         -9.069907  ,  -9.1183531 ,  -9.01887127,  -9.0568915 ,\n",
       "         -9.73329044, -10.25384723, -10.18755571,  -9.91558749,\n",
       "        -10.6204701 , -11.79618471, -10.76428659, -10.09627741]),\n",
       " 'std_test_score': array([4.73993893, 4.73993808, 4.73993808, 4.73993808, 6.2751903 ,\n",
       "        6.27519029, 6.2751903 , 6.27519029, 4.74182004, 4.74180337,\n",
       "        4.74180343, 4.74180341, 6.25917037, 6.25917038, 6.25917036,\n",
       "        6.25917035, 4.77844235, 4.77765061, 4.77765031, 4.77765064,\n",
       "        6.13815123, 6.13815356, 6.13815241, 6.1381512 , 4.72282021,\n",
       "        4.73316317, 4.73161692, 4.75677859, 5.53185881, 5.53012329,\n",
       "        5.52968637, 5.54643032, 4.59646822, 4.64903751, 4.66249973,\n",
       "        4.59865193, 4.91381378, 4.97603335, 4.97883491, 4.95014427,\n",
       "        5.50138641, 5.95587376, 5.69973457, 5.46643441, 4.78275171,\n",
       "        5.43456724, 4.94763449, 4.3704483 ]),\n",
       " 'rank_test_score': array([17, 20, 19, 18, 40, 38, 39, 37, 13, 16, 14, 15, 35, 36, 34, 33,  9,\n",
       "        11, 12, 10, 27, 25, 26, 28,  2,  6,  5,  8,  1,  3,  4,  7, 21, 23,\n",
       "        22, 24, 31, 32, 29, 30, 41, 45, 44, 42, 46, 48, 47, 43],\n",
       "       dtype=int32)}"
      ]
     },
     "execution_count": 83,
     "metadata": {},
     "output_type": "execute_result"
    }
   ],
   "source": [
    "grid.cv_results_['mean']"
   ]
  },
  {
   "cell_type": "code",
   "execution_count": null,
   "metadata": {},
   "outputs": [],
   "source": [
    " {'learning_rate': 0.001, 'loss': 'ls', 'min_samples_split': 4},"
   ]
  },
  {
   "cell_type": "code",
   "execution_count": 84,
   "metadata": {},
   "outputs": [
    {
     "data": {
      "text/plain": [
       "{'learning_rate': 0.01, 'loss': 'huber', 'min_samples_split': 2}"
      ]
     },
     "execution_count": 84,
     "metadata": {},
     "output_type": "execute_result"
    }
   ],
   "source": [
    "grid.best_params_"
   ]
  },
  {
   "cell_type": "code",
   "execution_count": 75,
   "metadata": {},
   "outputs": [
    {
     "data": {
      "text/plain": [
       "5.774285714285714"
      ]
     },
     "execution_count": 75,
     "metadata": {},
     "output_type": "execute_result"
    }
   ],
   "source": [
    "model = NMF(n_components=31).fit(X_train)\n",
    "X_train_W = model.transform(X_train)\n",
    "X_test_W = model.transform(X_test)\n",
    "\n",
    "\n",
    "estimator = GradientBoostingRegressor(learning_rate=0.1, loss='huber', min_samples_split=2).fit(X_train_W, y_train)\n",
    "mean_squared_error(y_test, estimator.predict(X_test_W).round())"
   ]
  }
 ],
 "metadata": {
  "kernelspec": {
   "display_name": "Python 3",
   "language": "python",
   "name": "python3"
  },
  "language_info": {
   "codemirror_mode": {
    "name": "ipython",
    "version": 3
   },
   "file_extension": ".py",
   "mimetype": "text/x-python",
   "name": "python",
   "nbconvert_exporter": "python",
   "pygments_lexer": "ipython3",
   "version": "3.7.0"
  }
 },
 "nbformat": 4,
 "nbformat_minor": 2
}
