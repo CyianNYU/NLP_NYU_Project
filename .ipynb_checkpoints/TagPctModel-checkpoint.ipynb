{
 "cells": [
  {
   "cell_type": "code",
   "execution_count": 8,
   "metadata": {},
   "outputs": [],
   "source": [
    "from itertools import cycle\n",
    "\n",
    "import numpy as np\n",
    "import pandas as pd\n",
    "from scipy import interp\n",
    "\n",
    "from sklearn.model_selection import train_test_split, GridSearchCV\n",
    "from sklearn.preprocessing import LabelEncoder, LabelBinarizer\n",
    "from sklearn.feature_extraction.text import CountVectorizer, TfidfVectorizer\n",
    "from sklearn.multiclass import OneVsRestClassifier\n",
    "from sklearn.pipeline import Pipeline\n",
    "from sklearn.naive_bayes import BernoulliNB, GaussianNB, MultinomialNB\n",
    "from sklearn.decomposition import NMF\n",
    "from sklearn.ensemble import RandomForestClassifier, GradientBoostingClassifier, RandomForestRegressor, GradientBoostingRegressor\n",
    "from sklearn.linear_model import LinearRegression, Ridge, BayesianRidge\n",
    "from sklearn.metrics import roc_auc_score, roc_curve, auc, make_scorer, accuracy_score, mean_squared_error\n",
    "\n",
    "import matplotlib.pyplot as plt\n",
    "plt.style.use('dark_background')\n",
    "\n",
    "%matplotlib inline"
   ]
  },
  {
   "cell_type": "code",
   "execution_count": 3,
   "metadata": {},
   "outputs": [],
   "source": [
    "data = pd.read_csv('data/qaData.csv', parse_dates=['Date'])\n",
    "data['EarningTag2'] = data['EarningTag2'].str.strip()\n",
    "\n",
    "#Add Lagged Column\n",
    "data['Lag1'] = data.groupby([\"Company\", \"Participants\", \"Date\", \"EventName\", \"EventType\"])['EarningTag2'].shift(1)\n",
    "\n",
    "#Add Year and Month from Data\n",
    "data['Year'] = data['Date'].dt.year\n",
    "data['Month'] = data['Date'].dt.month\n",
    "\n",
    "#Drop non-earning calls\n",
    "nn_data = data.loc[data['EventType']==\"Earnings call\", ['Company', 'Participants', 'Month', 'Year', 'AnalystName',\t'AnalystCompany', 'EventName', 'Lag1', 'EarningTag2']].copy()\n",
    "#Add quarter\n",
    "nn_data['Quarter'] = nn_data['EventName'].str.split(\"Q\").str[0]\n",
    "#Drop bad features\n",
    "nn_data = nn_data[['Company', \"Participants\", \"AnalystName\", \"AnalystCompany\", \"Month\", \"Year\", \"Quarter\", \"Lag1\", \"EarningTag2\"]].copy()\n",
    "\n",
    "nn_data['NewIndex'] = nn_data['Company'].str.replace(\" \", \"\") +  \"_Y\" + nn_data['Year'].astype(str) + \"_M\" + nn_data['Month'].astype(str) + \"_Q\" + nn_data['Quarter'].astype(str)\n",
    "pct_data = (nn_data.groupby(['NewIndex', \"EarningTag2\"]).size().reset_index()).pivot(index='NewIndex', columns='EarningTag2', values=0).fillna(0)\n",
    "\n",
    "#pct_div_data = pct_data.div(pct_data.sum(axis=1), axis=0)\n",
    "pct_div_data = pct_data\n",
    "pct_div_data = pd.concat([pct_div_data.reset_index(drop=True), pct_div_data.reset_index()['NewIndex'].str.split(\"_\", expand=True)[[0, 1, 2, 3]]], axis=1, ignore_index=True)\n",
    "pct_div_data.columns = pct_data.columns.tolist() + ['Company', 'Year', 'Month', 'Quarter']\n",
    "pct_div_data = pct_div_data[['Company', 'Year', 'Month', 'Quarter'] + pct_data.columns.tolist()]\n",
    "\n",
    "pct_melt_data = pd.melt(pct_div_data, id_vars=['Company', 'Year', 'Month', 'Quarter'], var_name='Tag', value_name='NumQ')\n",
    "pct_melt_data = pd.concat([pct_melt_data, \n",
    "                             pd.get_dummies(pct_melt_data['Company'], prefix='C', prefix_sep=\"\"),\n",
    "                             pd.get_dummies(pct_melt_data['Month']),\n",
    "                             pd.get_dummies(pct_melt_data['Quarter']),\n",
    "                             pd.get_dummies(pct_melt_data['Year']),\n",
    "                             pd.get_dummies(pct_melt_data['Tag'], prefix='T', prefix_sep=\"\")], axis=1)\n",
    "pct_melt_data = pct_melt_data.drop(['Company', 'Year', 'Month', 'Quarter', 'Tag'], axis=1)\n",
    "pct_melt_data = pct_melt_data.reset_index(drop=True)\n",
    "\n",
    "train, test = pct_melt_data.loc[pct_melt_data['Y2018']!=1].copy().reset_index(drop=True), \\\n",
    "                pct_melt_data.loc[pct_melt_data['Y2018']==1].copy().reset_index(drop=True)\n",
    "\n",
    "X_train, y_train = train.drop(['NumQ'], axis=1), train['NumQ'].values\n",
    "X_test, y_test = test.drop(['NumQ'], axis=1), test['NumQ'].values"
   ]
  },
  {
   "cell_type": "code",
   "execution_count": 49,
   "metadata": {},
   "outputs": [],
   "source": [
    "scores_gbc = np.zeros(50)\n",
    "scores_rf = np.zeros(50)\n",
    "\n",
    "for comp in range(1, 50):\n",
    "    model = NMF(n_components=comp)\n",
    "    X_train_W = model.fit_transform(X_train)\n",
    "    X_test_W = model.transform(X_test)\n",
    "    \n",
    "    estimator_gbc = GradientBoostingRegressor(warm_start=True).fit(X_train_W, y_train)\n",
    "    scores_gbc[comp] = mean_squared_error(y_test, estimator_gbc.predict(X_test_W).round())\n",
    "    \n",
    "    estimator_rf = RandomForestRegressor(warm_start=True).fit(X_train_W, y_train)\n",
    "    scores_rf[comp] = mean_squared_error(y_test, estimator_rf.predict(X_test_W).round())\n"
   ]
  },
  {
   "cell_type": "code",
   "execution_count": 50,
   "metadata": {},
   "outputs": [
    {
     "name": "stdout",
     "output_type": "stream",
     "text": [
      "3.7\n",
      "3.8685714285714288\n"
     ]
    }
   ],
   "source": [
    "print(scores_gbc[1:].min())\n",
    "print(scores_rf[1:].min())"
   ]
  },
  {
   "cell_type": "code",
   "execution_count": 52,
   "metadata": {},
   "outputs": [
    {
     "data": {
      "text/plain": [
       "30"
      ]
     },
     "execution_count": 52,
     "metadata": {},
     "output_type": "execute_result"
    }
   ],
   "source": [
    "scores_gbc[1:].argmin()"
   ]
  },
  {
   "cell_type": "code",
   "execution_count": 55,
   "metadata": {},
   "outputs": [
    {
     "data": {
      "text/plain": [
       "GridSearchCV(cv=5, error_score='raise',\n",
       "       estimator=Pipeline(memory=None,\n",
       "     steps=[('dim_red', NMF(alpha=0.0, beta_loss='frobenius', init=None, l1_ratio=0.0, max_iter=200,\n",
       "  n_components=None, random_state=None, shuffle=False, solver='cd',\n",
       "  tol=0.0001, verbose=0)), ('regressor', GradientBoostingRegressor(alpha=0.9, criterion='friedman_mse', init=None,\n",
       "             learning...s=100, presort='auto', random_state=None,\n",
       "             subsample=1.0, verbose=0, warm_start=False))]),\n",
       "       fit_params=None, iid=True, n_jobs=1,\n",
       "       param_grid={'dim_red__n_components': array([ 2,  3,  4,  5,  6,  7,  8,  9, 10, 11, 12, 13, 14, 15, 16, 17, 18,\n",
       "       19, 20, 21, 22, 23, 24, 25, 26, 27, 28, 29, 30, 31, 32, 33, 34, 35,\n",
       "       36, 37, 38, 39, 40, 41, 42, 43, 44, 45, 46, 47, 48, 49]), 'regressor__loss': ['ls', 'huber'], 'regressor__learning_rate': array([1.e-05, 1.e-04, 1.e-03, 1.e-02, 1.e-01, 1.e+00]), 'regressor__min_samples_split': array([2, 4, 6, 8])},\n",
       "       pre_dispatch='2*n_jobs', refit=True, return_train_score=False,\n",
       "       scoring=make_scorer(mean_squared_error, greater_is_better=False),\n",
       "       verbose=0)"
      ]
     },
     "execution_count": 55,
     "metadata": {},
     "output_type": "execute_result"
    }
   ],
   "source": [
    "pipe = Pipeline([('dim_red', NMF()),\n",
    "                     ('regressor', GradientBoostingRegressor())])\n",
    "\n",
    "param_grid = {'dim_red__n_components': np.arange(2, 50, dtype=int),\n",
    "              'regressor__loss':['ls', 'huber'],\n",
    "              'regressor__learning_rate':10.0**np.arange(-5,1,1),\n",
    "              'regressor__min_samples_split':np.arange(2,10,2)}\n",
    "\n",
    "grid = GridSearchCV(pipe, cv=5, param_grid=param_grid, return_train_score=False, scoring= make_scorer(mean_squared_error, greater_is_better=False))\n",
    "grid.fit(X_train, y_train)"
   ]
  },
  {
   "cell_type": "code",
   "execution_count": 56,
   "metadata": {},
   "outputs": [
    {
     "data": {
      "text/plain": [
       "-7.062518220068336"
      ]
     },
     "execution_count": 56,
     "metadata": {},
     "output_type": "execute_result"
    }
   ],
   "source": [
    "grid.best_score_"
   ]
  },
  {
   "cell_type": "code",
   "execution_count": 58,
   "metadata": {},
   "outputs": [
    {
     "data": {
      "text/plain": [
       "{'dim_red__n_components': 9,\n",
       " 'regressor__learning_rate': 0.1,\n",
       " 'regressor__loss': 'huber',\n",
       " 'regressor__min_samples_split': 8}"
      ]
     },
     "execution_count": 58,
     "metadata": {},
     "output_type": "execute_result"
    }
   ],
   "source": [
    "grid.best_params_"
   ]
  },
  {
   "cell_type": "code",
   "execution_count": 75,
   "metadata": {},
   "outputs": [
    {
     "data": {
      "text/plain": [
       "5.774285714285714"
      ]
     },
     "execution_count": 75,
     "metadata": {},
     "output_type": "execute_result"
    }
   ],
   "source": [
    "model = NMF(n_components=31).fit(X_train)\n",
    "X_train_W = model.transform(X_train)\n",
    "X_test_W = model.transform(X_test)\n",
    "\n",
    "\n",
    "estimator = GradientBoostingRegressor(learning_rate=0.1, loss='huber', min_samples_split=2).fit(X_train_W, y_train)\n",
    "mean_squared_error(y_test, estimator.predict(X_test_W).round())"
   ]
  }
 ],
 "metadata": {
  "kernelspec": {
   "display_name": "Python 3",
   "language": "python",
   "name": "python3"
  },
  "language_info": {
   "codemirror_mode": {
    "name": "ipython",
    "version": 3
   },
   "file_extension": ".py",
   "mimetype": "text/x-python",
   "name": "python",
   "nbconvert_exporter": "python",
   "pygments_lexer": "ipython3",
   "version": "3.7.0"
  }
 },
 "nbformat": 4,
 "nbformat_minor": 2
}
